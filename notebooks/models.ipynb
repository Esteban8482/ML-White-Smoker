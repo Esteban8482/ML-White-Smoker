{
 "cells": [
  {
   "cell_type": "markdown",
   "metadata": {},
   "source": [
    "# Determinar modelo"
   ]
  },
  {
   "cell_type": "markdown",
   "metadata": {},
   "source": [
    "Despues de estudiar cada modelo individualmente con el dataset con configuraciones iniciales estandar se determino que la mejor oopcion a explorar a fondo es el Gradient Boosting Classifier"
   ]
  },
  {
   "cell_type": "code",
   "execution_count": 20,
   "metadata": {},
   "outputs": [],
   "source": [
    "import pandas as pd\n",
    "\n",
    "from sklearn.model_selection import train_test_split\n",
    "from sklearn.preprocessing import StandardScaler\n",
    "from sklearn.linear_model import LogisticRegression\n",
    "from sklearn.svm import SVC\n",
    "from sklearn.neural_network import MLPClassifier\n",
    "from sklearn.ensemble import GradientBoostingClassifier, RandomForestClassifier\n",
    "from sklearn.metrics import accuracy_score"
   ]
  },
  {
   "cell_type": "code",
   "execution_count": 21,
   "metadata": {},
   "outputs": [],
   "source": [
    "train = pd.read_csv('toAnalyze.csv')\n",
    "test = pd.read_csv('test.csv')\n",
    "\n",
    "# Separar las características (X) y la variable objetivo (y)\n",
    "x = train.drop(columns=['smoking'])  # Todas las columnas excepto 'smoking'\n",
    "y = train['smoking']  # La columna 'smoking'\n",
    "\n",
    "X_train, X_val, y_train, y_val = train_test_split(x, y, test_size=0.2, random_state=42)"
   ]
  },
  {
   "cell_type": "code",
   "execution_count": null,
   "metadata": {},
   "outputs": [],
   "source": [
    "train = pd.read_csv('toAnalyze.csv')\n",
    "test = pd.read_csv('test.csv')\n",
    "\n",
    "# Separar las características (X) y la variable objetivo (y)\n",
    "x = train.drop(columns=['smoking'])  # Todas las columnas excepto 'smoking'\n",
    "y = train['smoking']  # La columna 'smoking'\n",
    "\n",
    "X_train, X_val, y_train, y_val = train_test_split(x, y, test_size=0.2, random_state=42)"
   ]
  },
  {
   "cell_type": "code",
   "execution_count": 22,
   "metadata": {},
   "outputs": [],
   "source": [
    "# Escalar los datos\n",
    "scaler = StandardScaler()\n",
    "X_train_scaled = scaler.fit_transform(X_train)\n",
    "X_val_scaled = scaler.transform(X_val)"
   ]
  },
  {
   "cell_type": "markdown",
   "metadata": {},
   "source": [
    "### Lineal Regression"
   ]
  },
  {
   "cell_type": "code",
   "execution_count": 23,
   "metadata": {},
   "outputs": [],
   "source": [
    "lr_model = LogisticRegression(max_iter = 1000, random_state = 42)\n",
    "lr_model.fit(X_train_scaled, y_train)\n",
    "\n",
    "y_val_pred = lr_model.predict(X_val_scaled)\n",
    "accuracy_lr = accuracy_score(y_val, y_val_pred)"
   ]
  },
  {
   "cell_type": "markdown",
   "metadata": {},
   "source": [
    "### SVM"
   ]
  },
  {
   "cell_type": "code",
   "execution_count": 24,
   "metadata": {},
   "outputs": [],
   "source": [
    "svm_model = SVC(kernel = 'rbf', C = 1,random_state = 42)\n",
    "svm_model.fit(X_train_scaled, y_train)\n",
    "\n",
    "y_val_pred = svm_model.predict(X_val_scaled)\n",
    "accuracy_svm = accuracy_score(y_val, y_val_pred)"
   ]
  },
  {
   "cell_type": "markdown",
   "metadata": {},
   "source": [
    "### Neural Network"
   ]
  },
  {
   "cell_type": "code",
   "execution_count": 25,
   "metadata": {},
   "outputs": [],
   "source": [
    "nn_model = MLPClassifier(hidden_layer_sizes = (100, ), activation = 'relu', max_iter = 1000, random_state = 42)\n",
    "nn_model.fit(X_train_scaled, y_train)\n",
    "\n",
    "y_val_pred = nn_model.predict(X_val_scaled)\n",
    "accuracy_nn = accuracy_score(y_val, y_val_pred)"
   ]
  },
  {
   "cell_type": "markdown",
   "metadata": {},
   "source": [
    "### GBM"
   ]
  },
  {
   "cell_type": "code",
   "execution_count": 26,
   "metadata": {},
   "outputs": [],
   "source": [
    "gbm_model = GradientBoostingClassifier(n_estimators = 100, learning_rate = 0.1, max_depth = 3, random_state = 42)\n",
    "gbm_model.fit(X_train_scaled, y_train)\n",
    "\n",
    "y_val_pred = gbm_model.predict(X_val_scaled)\n",
    "accuracy_gbm = accuracy_score(y_val, y_val_pred)"
   ]
  },
  {
   "cell_type": "markdown",
   "metadata": {},
   "source": [
    "### Random Forest"
   ]
  },
  {
   "cell_type": "code",
   "execution_count": 27,
   "metadata": {},
   "outputs": [
    {
     "name": "stderr",
     "output_type": "stream",
     "text": [
      "d:\\Users\\Lenovo\\Anaconda3\\envs\\eegGPU\\lib\\site-packages\\sklearn\\base.py:464: UserWarning: X does not have valid feature names, but RandomForestClassifier was fitted with feature names\n",
      "  warnings.warn(\n"
     ]
    }
   ],
   "source": [
    "rf_model = RandomForestClassifier(n_estimators = 100, max_depth = None, random_state = 42)\n",
    "rf_model.fit(X_train, y_train)\n",
    "\n",
    "y_val_pred = rf_model.predict(X_val_scaled)\n",
    "accuracy_rf = accuracy_score(y_val, y_val_pred)"
   ]
  },
  {
   "cell_type": "markdown",
   "metadata": {},
   "source": [
    "### Resumen"
   ]
  },
  {
   "cell_type": "code",
   "execution_count": 28,
   "metadata": {},
   "outputs": [
    {
     "name": "stdout",
     "output_type": "stream",
     "text": [
      "Accuracy of Logistic Regression: 0.7464209468793168\n",
      "Accuracy of SVM: 0.765509230189627\n",
      "Accuracy of Neural Network: 0.7650383021474318\n",
      "Accuracy of Gradient Boosting Machine: 0.7690882833103102\n",
      "Accuracy of Random Forest: 0.5766356900665578\n"
     ]
    }
   ],
   "source": [
    "print(f\"Accuracy of Logistic Regression: {accuracy_lr}\")\n",
    "print(f\"Accuracy of SVM: {accuracy_svm}\")\n",
    "print(f\"Accuracy of Neural Network: {accuracy_nn}\")\n",
    "print(f\"Accuracy of Gradient Boosting Machine: {accuracy_gbm}\")\n",
    "print(f\"Accuracy of Random Forest: {accuracy_rf}\")"
   ]
  },
  {
   "cell_type": "markdown",
   "metadata": {},
   "source": [
    "# Busqueda de Hiperparametros"
   ]
  },
  {
   "cell_type": "code",
   "execution_count": 29,
   "metadata": {},
   "outputs": [],
   "source": [
    "import pandas as pd\n",
    "import numpy as np\n",
    "\n",
    "from sklearn.model_selection import train_test_split, RandomizedSearchCV\n",
    "from sklearn.ensemble import GradientBoostingClassifier\n",
    "from sklearn.metrics import accuracy_score"
   ]
  },
  {
   "cell_type": "code",
   "execution_count": 30,
   "metadata": {},
   "outputs": [],
   "source": [
    "train = pd.read_csv('toAnalyze.csv')\n",
    "test = pd.read_csv('test.csv')\n",
    "\n",
    "# Separar las características (X) y la variable objetivo (y)\n",
    "x = train.drop(columns=['smoking'])  # Todas las columnas excepto 'smoking'\n",
    "y = train['smoking']  # La columna 'smoking'\n",
    "\n",
    "X_train, X_val, y_train, y_val = train_test_split(x, y, test_size=0.2, random_state=42)"
   ]
  },
  {
   "cell_type": "code",
   "execution_count": 31,
   "metadata": {},
   "outputs": [],
   "source": [
    "gbm_model = GradientBoostingClassifier(random_state = 42)\n",
    "\n",
    "param_distributions = {\n",
    "    'n_estimators' : [50, 100, 200, 300],\n",
    "    'learning_rate' : [0.01, 0.05, 0.1, 0.2],\n",
    "    'max_depth' : [3, 4, 5, 6],\n",
    "    'min_samples_split' : [2, 5, 10],\n",
    "    'min_samples_leaf' : [1, 2, 4],\n",
    "    'subsample' : [0.7, 0.8, 0.9, 1]\n",
    "}"
   ]
  },
  {
   "cell_type": "code",
   "execution_count": 32,
   "metadata": {},
   "outputs": [
    {
     "name": "stdout",
     "output_type": "stream",
     "text": [
      "Fitting 3 folds for each of 100 candidates, totalling 300 fits\n",
      "Best hyperparameters:  {'subsample': 0.9, 'n_estimators': 300, 'min_samples_split': 5, 'min_samples_leaf': 4, 'max_depth': 6, 'learning_rate': 0.1}\n",
      "Best accuracy:  0.7780681925214279\n"
     ]
    }
   ],
   "source": [
    "random_search = RandomizedSearchCV(estimator = gbm_model, param_distributions = param_distributions, n_iter = 100, scoring = 'accuracy', n_jobs = -1, cv = 3, verbose = 2, random_state = 42)\n",
    "\n",
    "random_search.fit(X_train, y_train)\n",
    "\n",
    "print(\"Best hyperparameters: \", random_search.best_params_)\n",
    "print(\"Best accuracy: \", random_search.best_score_)"
   ]
  },
  {
   "cell_type": "markdown",
   "metadata": {},
   "source": [
    "### Resultados:\n",
    "\n",
    "- Best hyperparameters:  {'subsample': 0.9, 'n_estimators': 300, 'min_samples_split': 5, 'min_samples_leaf': 4, 'max_depth': 6, 'learning_rate': 0.1}\n",
    "- Best accuracy:  0.7780681925214279"
   ]
  },
  {
   "cell_type": "markdown",
   "metadata": {},
   "source": []
  }
 ],
 "metadata": {
  "kernelspec": {
   "display_name": "Python 3",
   "language": "python",
   "name": "python3"
  },
  "language_info": {
   "codemirror_mode": {
    "name": "ipython",
    "version": 3
   },
   "file_extension": ".py",
   "mimetype": "text/x-python",
   "name": "python",
   "nbconvert_exporter": "python",
   "pygments_lexer": "ipython3",
   "version": "3.10.13"
  }
 },
 "nbformat": 4,
 "nbformat_minor": 2
}
